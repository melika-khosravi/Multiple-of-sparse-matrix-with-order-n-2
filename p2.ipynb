{
 "cells": [
  {
   "cell_type": "code",
   "execution_count": 4,
   "id": "35d64db5-4dc8-4082-aa81-f06f696ba6c4",
   "metadata": {},
   "outputs": [],
   "source": [
    "A=[[1,0,2,0],\n",
    "   [0,3,0,0],\n",
    "   [0,0,0,1],\n",
    "   [4,0,0,2]]\n",
    "B=[[2,0,0,3],\n",
    "   [0,0,1,0],\n",
    "   [2,2,0,0],\n",
    "   [0,0,0,3]]\n",
    "\n",
    "n=4\n",
    "\n",
    "def turn_to_dict(X):\n",
    "    X_dict={}\n",
    "    for i in range(n):\n",
    "        for j in range(n):\n",
    "            if X[i][j]!=0:\n",
    "                X_dict[(i,j)]=X[i][j]\n",
    "    return X_dict\n",
    "\n",
    "A_dict= turn_to_dict(A)\n",
    "B_dict= turn_to_dict(B)\n",
    "\n",
    "def sum(A_dict,B_dict,n):\n",
    "    sum_dict={}\n",
    "    for i in range(n):\n",
    "        for j in range(n):\n",
    "            if A_dict.get((i,j),0)!=0 or B_dict.get((i,j),0)!=0:\n",
    "                sum_dict[(i,j)]=A_dict.get((i,j),0)+B_dict.get((i,j),0)\n",
    "    return sum_dict\n",
    "\n",
    "\n",
    "\n",
    "\n",
    "\n",
    "\n",
    "def multiple(A_dict,B_dict,n):\n",
    "    mult_dict={}\n",
    "    for (i,j),val1 in A_dict.items():\n",
    "        for k in range(n):\n",
    "            if (j,k) in B_dict:\n",
    "                if mult_dict.get((i,k),0)!=0 :\n",
    "                    last_result=mult_dict.get((i,k),0)\n",
    "                    mult_dict[(i,k)]=last_result+(val1*B_dict.get((j,k),0))\n",
    "                else:\n",
    "                    mult_dict[(i,k)]=val1*B_dict.get((j,k),0)\n",
    "    return mult_dict\n",
    "\n",
    "\n",
    "\n",
    "\n",
    "\n",
    "def mult(A_dict,B_dict,n):\n",
    "    mult_dict={}\n",
    "    for i in range(n):\n",
    "        for j in range(n):\n",
    "            mult_dict[(i,j)]=0\n",
    "            for k in range(n):\n",
    "                mult_dict[(i,j)]=mult_dict[(i,j)]+A_dict.get((i,k),0)*B_dict.get((k,j),0)\n",
    "            if mult_dict.get((i,j),0)==0:\n",
    "                mult_dict.pop((i,j))\n",
    "    return mult_dict\n",
    "\n"
   ]
  },
  {
   "cell_type": "code",
   "execution_count": 5,
   "id": "3136c56b-94e8-4f65-be3c-b37a4f1fbd39",
   "metadata": {},
   "outputs": [
    {
     "name": "stdout",
     "output_type": "stream",
     "text": [
      "{(0, 0): 3, (0, 2): 2, (0, 3): 3, (1, 1): 3, (1, 2): 1, (2, 0): 2, (2, 1): 2, (2, 3): 1, (3, 0): 4, (3, 3): 5}\n",
      "{(0, 0): 6, (0, 3): 3, (0, 1): 4, (1, 2): 3, (2, 3): 3, (3, 0): 8, (3, 3): 18}\n",
      "{(0, 0): 6, (0, 1): 4, (0, 3): 3, (1, 2): 3, (2, 3): 3, (3, 0): 8, (3, 3): 18}\n"
     ]
    }
   ],
   "source": [
    "print(sum(A_dict,B_dict,n))\n",
    "print(multiple(A_dict,B_dict,n))\n",
    "print(mult(A_dict,B_dict,n))"
   ]
  },
  {
   "cell_type": "code",
   "execution_count": null,
   "id": "39ac3938-b68f-4ce4-9666-f45b050a5d93",
   "metadata": {},
   "outputs": [],
   "source": [
    "توضیحات  در "
   ]
  }
 ],
 "metadata": {
  "kernelspec": {
   "display_name": "Python 3 (ipykernel)",
   "language": "python",
   "name": "python3"
  },
  "language_info": {
   "codemirror_mode": {
    "name": "ipython",
    "version": 3
   },
   "file_extension": ".py",
   "mimetype": "text/x-python",
   "name": "python",
   "nbconvert_exporter": "python",
   "pygments_lexer": "ipython3",
   "version": "3.10.0"
  }
 },
 "nbformat": 4,
 "nbformat_minor": 5
}
